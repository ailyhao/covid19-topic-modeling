{
  "nbformat": 4,
  "nbformat_minor": 0,
  "metadata": {
    "colab": {
      "name": "COVID_19_TopicModelling.ipynb",
      "provenance": []
    },
    "kernelspec": {
      "name": "python3",
      "display_name": "Python 3"
    }
  },
  "cells": [
    {
      "cell_type": "code",
      "metadata": {
        "id": "WOeQJCCKTOFV",
        "colab_type": "code",
        "colab": {
          "base_uri": "https://localhost:8080/",
          "height": 70
        },
        "outputId": "7009c4ab-d4fa-4b13-96f5-fb378fd65423"
      },
      "source": [
        "import nltk; nltk.download('stopwords')"
      ],
      "execution_count": 1,
      "outputs": [
        {
          "output_type": "stream",
          "text": [
            "[nltk_data] Downloading package stopwords to /root/nltk_data...\n",
            "[nltk_data]   Unzipping corpora/stopwords.zip.\n"
          ],
          "name": "stdout"
        },
        {
          "output_type": "execute_result",
          "data": {
            "text/plain": [
              "True"
            ]
          },
          "metadata": {
            "tags": []
          },
          "execution_count": 1
        }
      ]
    },
    {
      "cell_type": "code",
      "metadata": {
        "id": "5Wv-UXX0T44p",
        "colab_type": "code",
        "colab": {
          "base_uri": "https://localhost:8080/",
          "height": 638
        },
        "outputId": "cc1e8c14-0e82-4b87-ba96-fd48d4a0f284"
      },
      "source": [
        "pip install pyLDAvis"
      ],
      "execution_count": 2,
      "outputs": [
        {
          "output_type": "stream",
          "text": [
            "Collecting pyLDAvis\n",
            "\u001b[?25l  Downloading https://files.pythonhosted.org/packages/a5/3a/af82e070a8a96e13217c8f362f9a73e82d61ac8fff3a2561946a97f96266/pyLDAvis-2.1.2.tar.gz (1.6MB)\n",
            "\u001b[K     |████████████████████████████████| 1.6MB 3.2MB/s \n",
            "\u001b[?25hRequirement already satisfied: wheel>=0.23.0 in /usr/local/lib/python3.6/dist-packages (from pyLDAvis) (0.34.2)\n",
            "Requirement already satisfied: numpy>=1.9.2 in /usr/local/lib/python3.6/dist-packages (from pyLDAvis) (1.18.5)\n",
            "Requirement already satisfied: scipy>=0.18.0 in /usr/local/lib/python3.6/dist-packages (from pyLDAvis) (1.4.1)\n",
            "Requirement already satisfied: pandas>=0.17.0 in /usr/local/lib/python3.6/dist-packages (from pyLDAvis) (1.0.5)\n",
            "Requirement already satisfied: joblib>=0.8.4 in /usr/local/lib/python3.6/dist-packages (from pyLDAvis) (0.15.1)\n",
            "Requirement already satisfied: jinja2>=2.7.2 in /usr/local/lib/python3.6/dist-packages (from pyLDAvis) (2.11.2)\n",
            "Requirement already satisfied: numexpr in /usr/local/lib/python3.6/dist-packages (from pyLDAvis) (2.7.1)\n",
            "Requirement already satisfied: pytest in /usr/local/lib/python3.6/dist-packages (from pyLDAvis) (3.6.4)\n",
            "Requirement already satisfied: future in /usr/local/lib/python3.6/dist-packages (from pyLDAvis) (0.16.0)\n",
            "Collecting funcy\n",
            "\u001b[?25l  Downloading https://files.pythonhosted.org/packages/ce/4b/6ffa76544e46614123de31574ad95758c421aae391a1764921b8a81e1eae/funcy-1.14.tar.gz (548kB)\n",
            "\u001b[K     |████████████████████████████████| 552kB 19.5MB/s \n",
            "\u001b[?25hRequirement already satisfied: python-dateutil>=2.6.1 in /usr/local/lib/python3.6/dist-packages (from pandas>=0.17.0->pyLDAvis) (2.8.1)\n",
            "Requirement already satisfied: pytz>=2017.2 in /usr/local/lib/python3.6/dist-packages (from pandas>=0.17.0->pyLDAvis) (2018.9)\n",
            "Requirement already satisfied: MarkupSafe>=0.23 in /usr/local/lib/python3.6/dist-packages (from jinja2>=2.7.2->pyLDAvis) (1.1.1)\n",
            "Requirement already satisfied: pluggy<0.8,>=0.5 in /usr/local/lib/python3.6/dist-packages (from pytest->pyLDAvis) (0.7.1)\n",
            "Requirement already satisfied: attrs>=17.4.0 in /usr/local/lib/python3.6/dist-packages (from pytest->pyLDAvis) (19.3.0)\n",
            "Requirement already satisfied: six>=1.10.0 in /usr/local/lib/python3.6/dist-packages (from pytest->pyLDAvis) (1.12.0)\n",
            "Requirement already satisfied: more-itertools>=4.0.0 in /usr/local/lib/python3.6/dist-packages (from pytest->pyLDAvis) (8.4.0)\n",
            "Requirement already satisfied: setuptools in /usr/local/lib/python3.6/dist-packages (from pytest->pyLDAvis) (47.3.1)\n",
            "Requirement already satisfied: atomicwrites>=1.0 in /usr/local/lib/python3.6/dist-packages (from pytest->pyLDAvis) (1.4.0)\n",
            "Requirement already satisfied: py>=1.5.0 in /usr/local/lib/python3.6/dist-packages (from pytest->pyLDAvis) (1.8.2)\n",
            "Building wheels for collected packages: pyLDAvis, funcy\n",
            "  Building wheel for pyLDAvis (setup.py) ... \u001b[?25l\u001b[?25hdone\n",
            "  Created wheel for pyLDAvis: filename=pyLDAvis-2.1.2-py2.py3-none-any.whl size=97711 sha256=c7785f7077aabf99c9e2ce93ccfa7e34a1edb505a000f735a7c78c5d96a2b7e1\n",
            "  Stored in directory: /root/.cache/pip/wheels/98/71/24/513a99e58bb6b8465bae4d2d5e9dba8f0bef8179e3051ac414\n",
            "  Building wheel for funcy (setup.py) ... \u001b[?25l\u001b[?25hdone\n",
            "  Created wheel for funcy: filename=funcy-1.14-py2.py3-none-any.whl size=32042 sha256=506668b33ed455b5776d07a29b0deb0083c40be5f864cd0ac8e81f47e7e72221\n",
            "  Stored in directory: /root/.cache/pip/wheels/20/5a/d8/1d875df03deae6f178dfdf70238cca33f948ef8a6f5209f2eb\n",
            "Successfully built pyLDAvis funcy\n",
            "Installing collected packages: funcy, pyLDAvis\n",
            "Successfully installed funcy-1.14 pyLDAvis-2.1.2\n"
          ],
          "name": "stdout"
        }
      ]
    },
    {
      "cell_type": "code",
      "metadata": {
        "id": "fnbqlMiuTmcK",
        "colab_type": "code",
        "colab": {}
      },
      "source": [
        "import re\n",
        "import numpy as np\n",
        "import pandas as pd\n",
        "from pprint import pprint\n",
        "\n",
        "\n",
        "# Gensim\n",
        "import gensim\n",
        "import gensim.corpora as corpora\n",
        "from gensim.utils import simple_preprocess\n",
        "from gensim.models import CoherenceModel\n",
        "\n",
        "# spacy for lemmatization\n",
        "import spacy\n",
        "\n",
        "# Plotting tools\n",
        "import pyLDAvis\n",
        "import pyLDAvis.gensim  # don't skip this\n",
        "import matplotlib.pyplot as plt\n",
        "%matplotlib inline\n",
        "\n",
        "# Enable logging for gensim - optional\n",
        "import logging\n",
        "logging.basicConfig(format='%(asctime)s : %(levelname)s : %(message)s', level=logging.ERROR)\n",
        "\n",
        "import warnings\n",
        "warnings.filterwarnings(\"ignore\",category=DeprecationWarning)"
      ],
      "execution_count": 3,
      "outputs": []
    },
    {
      "cell_type": "code",
      "metadata": {
        "id": "DS1XYO9YTzFm",
        "colab_type": "code",
        "colab": {}
      },
      "source": [
        "# NLTK Stop words\n",
        "from nltk.corpus import stopwords\n",
        "stop_words = stopwords.words('english')"
      ],
      "execution_count": 4,
      "outputs": []
    },
    {
      "cell_type": "code",
      "metadata": {
        "id": "XRB8FIJ3UQz2",
        "colab_type": "code",
        "colab": {
          "base_uri": "https://localhost:8080/",
          "height": 125
        },
        "outputId": "e1e1c139-7d54-4180-908c-3cb26f1cae27"
      },
      "source": [
        "# mount to Google drive\n",
        "from google.colab import drive\n",
        "drive.mount('/content/drive')\n",
        "\n",
        "import os\n",
        "os.chdir('/content/drive/Shared drives/493B')"
      ],
      "execution_count": 5,
      "outputs": [
        {
          "output_type": "stream",
          "text": [
            "Go to this URL in a browser: https://accounts.google.com/o/oauth2/auth?client_id=947318989803-6bn6qk8qdgf4n4g3pfee6491hc0brc4i.apps.googleusercontent.com&redirect_uri=urn%3aietf%3awg%3aoauth%3a2.0%3aoob&response_type=code&scope=email%20https%3a%2f%2fwww.googleapis.com%2fauth%2fdocs.test%20https%3a%2f%2fwww.googleapis.com%2fauth%2fdrive%20https%3a%2f%2fwww.googleapis.com%2fauth%2fdrive.photos.readonly%20https%3a%2f%2fwww.googleapis.com%2fauth%2fpeopleapi.readonly\n",
            "\n",
            "Enter your authorization code:\n",
            "··········\n",
            "Mounted at /content/drive\n"
          ],
          "name": "stdout"
        }
      ]
    },
    {
      "cell_type": "markdown",
      "metadata": {
        "id": "5VGynslaUoou",
        "colab_type": "text"
      },
      "source": [
        "# Import Dataset"
      ]
    },
    {
      "cell_type": "code",
      "metadata": {
        "id": "wq2-MzLDUtpR",
        "colab_type": "code",
        "colab": {}
      },
      "source": [
        "raw_data = pd.DataFrame()\n",
        "\n",
        "file_names = ['COVID_2', 'COVID_3', 'COVID_4', 'COVID_5']\n",
        "\n",
        "for file in file_names:\n",
        "    file_name = file + '.csv'\n",
        "    text = pd.read_csv(file_name, usecols=['text'])\n",
        "    raw_data = pd.concat([raw_data,text],axis=0)"
      ],
      "execution_count": 6,
      "outputs": []
    },
    {
      "cell_type": "code",
      "metadata": {
        "id": "boJ5EkrVXqVd",
        "colab_type": "code",
        "colab": {
          "base_uri": "https://localhost:8080/",
          "height": 137
        },
        "outputId": "c5701915-c93b-4c93-c590-d08542d9dbe3"
      },
      "source": [
        "raw_data.head(3)"
      ],
      "execution_count": 7,
      "outputs": [
        {
          "output_type": "execute_result",
          "data": {
            "text/html": [
              "<div>\n",
              "<style scoped>\n",
              "    .dataframe tbody tr th:only-of-type {\n",
              "        vertical-align: middle;\n",
              "    }\n",
              "\n",
              "    .dataframe tbody tr th {\n",
              "        vertical-align: top;\n",
              "    }\n",
              "\n",
              "    .dataframe thead th {\n",
              "        text-align: right;\n",
              "    }\n",
              "</style>\n",
              "<table border=\"1\" class=\"dataframe\">\n",
              "  <thead>\n",
              "    <tr style=\"text-align: right;\">\n",
              "      <th></th>\n",
              "      <th>text</th>\n",
              "    </tr>\n",
              "  </thead>\n",
              "  <tbody>\n",
              "    <tr>\n",
              "      <th>0</th>\n",
              "      <td>\"The study found that kidney dysfunction occur...</td>\n",
              "    </tr>\n",
              "    <tr>\n",
              "      <th>1</th>\n",
              "      <td>Oh man! North Korea's first confirmed Coronavi...</td>\n",
              "    </tr>\n",
              "    <tr>\n",
              "      <th>2</th>\n",
              "      <td>Bill Gates: “Now we also face an immediate cri...</td>\n",
              "    </tr>\n",
              "  </tbody>\n",
              "</table>\n",
              "</div>"
            ],
            "text/plain": [
              "                                                text\n",
              "0  \"The study found that kidney dysfunction occur...\n",
              "1  Oh man! North Korea's first confirmed Coronavi...\n",
              "2  Bill Gates: “Now we also face an immediate cri..."
            ]
          },
          "metadata": {
            "tags": []
          },
          "execution_count": 7
        }
      ]
    },
    {
      "cell_type": "markdown",
      "metadata": {
        "id": "dH5CqIeKZUlX",
        "colab_type": "text"
      },
      "source": [
        "# Data pre-processing"
      ]
    },
    {
      "cell_type": "code",
      "metadata": {
        "id": "Xj9-sOfrXt2S",
        "colab_type": "code",
        "colab": {
          "base_uri": "https://localhost:8080/",
          "height": 70
        },
        "outputId": "56136fea-9015-4a6b-b021-64ca2b25ea81"
      },
      "source": [
        "tweets = raw_data.text.values.tolist()\n",
        "tweets = [re.sub(r'\\b(\\w*[Cc][Oo][Vv][Ii][Dd]\\w*)\\b', '', tweet) for tweet in tweets]\n",
        "pprint(tweets[:1])\n"
      ],
      "execution_count": 8,
      "outputs": [
        {
          "output_type": "stream",
          "text": [
            "['\"The study found that kidney dysfunction occurs in 3 to 10 percent of novel '\n",
            " 'coronavirus (-19) infection. In addition, acute damage to the kidneys occurs '\n",
            " 'in seven percent of patients.\" ']\n"
          ],
          "name": "stdout"
        }
      ]
    },
    {
      "cell_type": "code",
      "metadata": {
        "id": "JwiBoTc4Yr-E",
        "colab_type": "code",
        "colab": {}
      },
      "source": [
        "def tweets_to_words(sentences):\n",
        "  for sentence in sentences:\n",
        "    yield(gensim.utils.simple_preprocess(str(sentence), deacc = True)) # deacc = True removes punctuations\n",
        "\n",
        "tweets_words = list(tweets_to_words(tweets))\n"
      ],
      "execution_count": 9,
      "outputs": []
    },
    {
      "cell_type": "code",
      "metadata": {
        "id": "-n8m6gs0ZOUp",
        "colab_type": "code",
        "colab": {
          "base_uri": "https://localhost:8080/",
          "height": 54
        },
        "outputId": "0ab8b45d-c479-4b67-c83d-b1d217dcf27b"
      },
      "source": [
        "print(tweets_words[:4])"
      ],
      "execution_count": 10,
      "outputs": [
        {
          "output_type": "stream",
          "text": [
            "[['the', 'study', 'found', 'that', 'kidney', 'dysfunction', 'occurs', 'in', 'to', 'percent', 'of', 'novel', 'coronavirus', 'infection', 'in', 'addition', 'acute', 'damage', 'to', 'the', 'kidneys', 'occurs', 'in', 'seven', 'percent', 'of', 'patients'], ['oh', 'man', 'north', 'korea', 'first', 'confirmed', 'coronavirus', 'patient', 'shot', 'dead', 'report', 'https', 'www', 'ibtimes', 'sg', 'apq', 'via', 'ibtimessg'], ['bill', 'gates', 'now', 'we', 'also', 'face', 'an', 'immediate', 'crisis', 'in', 'the', 'past', 'week', 'has', 'started', 'behaving', 'lot', 'like', 'the', 'once', 'in', 'century', 'pathogen', 'we', 've', 'been', 'worried', 'about', 'hope', 'it', 'not', 'that', 'bad', 'but', 'we', 'should', 'assume', 'it', 'will', 'be', 'until', 'we', 'know', 'otherwise'], ['let', 'stick', 'to', 'reality', 'there', 'still', 'no', 'cure', 'for', 'the', 'following', 'viruses', 'hiv', 'aids', 'herpes', 'rotavirus', 'sars', 'ebola', 'the', 'common', 'flu', 'dengue', 'rabies', 'but', 'we', 're', 'supposed', 'to', 'believe', 'trump', 'that', 'virus', 'cure', 'will', 'surface', 'in', 'april', 'so', 'we', 'should', 'keep', 'investing', 'in', 'the', 'markets']]\n"
          ],
          "name": "stdout"
        }
      ]
    },
    {
      "cell_type": "code",
      "metadata": {
        "id": "acxTjNLtZx9S",
        "colab_type": "code",
        "colab": {
          "base_uri": "https://localhost:8080/",
          "height": 90
        },
        "outputId": "de43816a-7d3b-48d5-8490-8fd9b246a277"
      },
      "source": [
        "# Build the bigram and trigram models\n",
        "bigram = gensim.models.Phrases(tweets_words, min_count=5, threshold=100) # higher threshold fewer phrases.\n",
        "trigram = gensim.models.Phrases(bigram[tweets_words], threshold=100)  \n",
        "\n",
        "# Faster way to get a sentence clubbed as a trigram/bigram\n",
        "bigram_mod = gensim.models.phrases.Phraser(bigram)\n",
        "trigram_mod = gensim.models.phrases.Phraser(trigram)\n",
        "\n",
        "# See trigram example\n",
        "print(trigram_mod[bigram_mod[tweets_words[0]]])"
      ],
      "execution_count": 11,
      "outputs": [
        {
          "output_type": "stream",
          "text": [
            "/usr/local/lib/python3.6/dist-packages/gensim/models/phrases.py:598: UserWarning: For a faster implementation, use the gensim.models.phrases.Phraser class\n",
            "  warnings.warn(\"For a faster implementation, use the gensim.models.phrases.Phraser class\")\n"
          ],
          "name": "stderr"
        },
        {
          "output_type": "stream",
          "text": [
            "['the', 'study', 'found', 'that', 'kidney', 'dysfunction', 'occurs', 'in', 'to', 'percent', 'of', 'novel', 'coronavirus', 'infection', 'in', 'addition', 'acute', 'damage', 'to', 'the', 'kidneys', 'occurs', 'in', 'seven', 'percent', 'of', 'patients']\n"
          ],
          "name": "stdout"
        }
      ]
    },
    {
      "cell_type": "code",
      "metadata": {
        "id": "ui6C41VEa7B_",
        "colab_type": "code",
        "colab": {}
      },
      "source": [
        "# Define functions for stopwords, bigrams, trigrams and lemmatization\n",
        "def remove_stopwords(texts):\n",
        "    return [[word for word in simple_preprocess(str(doc)) if word not in stop_words] for doc in texts]\n",
        "\n",
        "def make_bigrams(texts):\n",
        "    return [bigram_mod[doc] for doc in texts]\n",
        "\n",
        "def make_trigrams(texts):\n",
        "    return [trigram_mod[bigram_mod[doc]] for doc in texts]\n",
        "\n",
        "def lemmatization(texts, allowed_postags=['NOUN', 'ADJ', 'VERB', 'ADV']):\n",
        "    \"\"\"https://spacy.io/api/annotation\"\"\"\n",
        "    texts_out = []\n",
        "    for tweet in texts:\n",
        "        doc = nlp(\" \".join(tweet)) \n",
        "        texts_out.append([token.lemma_ for token in doc if token.pos_ in allowed_postags])\n",
        "    return texts_out"
      ],
      "execution_count": 12,
      "outputs": []
    },
    {
      "cell_type": "code",
      "metadata": {
        "id": "tzcpFVcDcJvV",
        "colab_type": "code",
        "colab": {
          "base_uri": "https://localhost:8080/",
          "height": 34
        },
        "outputId": "361e4159-c3b6-4dc8-8680-a53fb2f07708"
      },
      "source": [
        "# Remove Stop Words\n",
        "tweets_words_nostops = remove_stopwords(tweets_words)\n",
        "\n",
        "# Form Bigrams\n",
        "tweets_words_bigrams = make_bigrams(tweets_words_nostops)\n",
        "\n",
        "# Initialize spacy 'en' model, keeping only tagger component (for efficiency)\n",
        "# python3 -m spacy download en\n",
        "nlp = spacy.load('en', disable=['parser', 'ner'])\n",
        "\n",
        "# Do lemmatization keeping only noun, adj, vb, adv\n",
        "tweets_lemmatized = lemmatization(tweets_words_bigrams, allowed_postags=['NOUN', 'ADJ', 'VERB', 'ADV'])\n",
        "\n",
        "print(tweets_lemmatized[:1])"
      ],
      "execution_count": 13,
      "outputs": [
        {
          "output_type": "stream",
          "text": [
            "[['study', 'find', 'kidney', 'dysfunction', 'occur', 'percent', 'novel', 'infection', 'addition', 'acute', 'damage', 'kidney', 'occur', 'percent', 'patient']]\n"
          ],
          "name": "stdout"
        }
      ]
    },
    {
      "cell_type": "code",
      "metadata": {
        "id": "8A8PYam6d8Mh",
        "colab_type": "code",
        "colab": {
          "base_uri": "https://localhost:8080/",
          "height": 34
        },
        "outputId": "36411485-46ea-4724-a6df-cea5d58c8aee"
      },
      "source": [
        "# Create Dictionary\n",
        "id2word = corpora.Dictionary(tweets_lemmatized)\n",
        "\n",
        "# Create Corpus\n",
        "texts = tweets_lemmatized\n",
        "\n",
        "# Term Document Frequency\n",
        "corpus = [id2word.doc2bow(text) for text in texts]\n",
        "\n",
        "# View\n",
        "print(corpus[:1])"
      ],
      "execution_count": 14,
      "outputs": [
        {
          "output_type": "stream",
          "text": [
            "[[(0, 1), (1, 1), (2, 1), (3, 1), (4, 1), (5, 1), (6, 2), (7, 1), (8, 2), (9, 1), (10, 2), (11, 1)]]\n"
          ],
          "name": "stdout"
        }
      ]
    },
    {
      "cell_type": "code",
      "metadata": {
        "id": "2dcvovP6eEqO",
        "colab_type": "code",
        "colab": {}
      },
      "source": [
        "# Build LDA model\n",
        "lda_model = gensim.models.ldamodel.LdaModel(corpus=corpus,\n",
        "                                           id2word=id2word,\n",
        "                                           num_topics=3, \n",
        "                                           random_state=100,\n",
        "                                           update_every=1,\n",
        "                                           chunksize=100,\n",
        "                                           passes=10,\n",
        "                                           alpha='auto',\n",
        "                                           per_word_topics=True)"
      ],
      "execution_count": 19,
      "outputs": []
    },
    {
      "cell_type": "code",
      "metadata": {
        "id": "kMLOOgpze0z7",
        "colab_type": "code",
        "colab": {
          "base_uri": "https://localhost:8080/",
          "height": 194
        },
        "outputId": "031c2f6b-c385-411b-acef-63ab2fc07fe6"
      },
      "source": [
        "# Print the Keyword in the 5 topics\n",
        "pprint(lda_model.print_topics())\n",
        "doc_lda = lda_model[corpus]"
      ],
      "execution_count": 20,
      "outputs": [
        {
          "output_type": "stream",
          "text": [
            "[(0,\n",
            "  '0.022*\"com\" + 0.017*\"go\" + 0.014*\"make\" + 0.012*\"pandemic\" + 0.011*\"amp\" + '\n",
            "  '0.010*\"year\" + 0.010*\"many\" + 0.010*\"thank\" + 0.010*\"due\" + 0.009*\"world\"'),\n",
            " (1,\n",
            "  '0.022*\"death\" + 0.018*\"case\" + 0.015*\"day\" + 0.015*\"test\" + 0.015*\"say\" + '\n",
            "  '0.014*\"may\" + 0.013*\"new\" + 0.012*\"today\" + 0.011*\"die\" + 0.011*\"patient\"'),\n",
            " (2,\n",
            "  '0.022*\"people\" + 0.016*\"help\" + 0.014*\"get\" + 0.014*\"work\" + 0.013*\"time\" + '\n",
            "  '0.011*\"take\" + 0.009*\"need\" + 0.009*\"home\" + 0.009*\"lockdown\" + '\n",
            "  '0.008*\"government\"')]\n"
          ],
          "name": "stdout"
        }
      ]
    },
    {
      "cell_type": "code",
      "metadata": {
        "id": "48Y42IpChGdr",
        "colab_type": "code",
        "colab": {
          "base_uri": "https://localhost:8080/",
          "height": 87
        },
        "outputId": "9acb7907-fa58-47ff-fb20-07ed85ad90b1"
      },
      "source": [
        "# Compute Perplexity\n",
        "print('\\nPerplexity: ', lda_model.log_perplexity(corpus))  # a measure of how good the model is. lower the better.\n",
        "\n",
        "# Compute Coherence Score\n",
        "coherence_model_lda = CoherenceModel(model=lda_model, texts=tweets_lemmatized, dictionary=id2word, coherence='c_v')\n",
        "coherence_lda = coherence_model_lda.get_coherence()\n",
        "print('\\nCoherence Score: ', coherence_lda)"
      ],
      "execution_count": 21,
      "outputs": [
        {
          "output_type": "stream",
          "text": [
            "\n",
            "Perplexity:  -8.218318866092357\n",
            "\n",
            "Coherence Score:  0.25623117585968375\n"
          ],
          "name": "stdout"
        }
      ]
    },
    {
      "cell_type": "code",
      "metadata": {
        "id": "Q8ajBlzWhnKK",
        "colab_type": "code",
        "colab": {
          "base_uri": "https://localhost:8080/",
          "height": 860
        },
        "outputId": "87b40ce2-473a-4c29-fb37-8d6787fee512"
      },
      "source": [
        "# Visualize the topics\n",
        "pyLDAvis.enable_notebook()\n",
        "vis = pyLDAvis.gensim.prepare(lda_model, corpus, id2word)\n",
        "vis"
      ],
      "execution_count": 22,
      "outputs": [
        {
          "output_type": "execute_result",
          "data": {
            "text/html": [
              "\n",
              "<link rel=\"stylesheet\" type=\"text/css\" href=\"https://cdn.rawgit.com/bmabey/pyLDAvis/files/ldavis.v1.0.0.css\">\n",
              "\n",
              "\n",
              "<div id=\"ldavis_el1241399669297805528886730174\"></div>\n",
              "<script type=\"text/javascript\">\n",
              "\n",
              "var ldavis_el1241399669297805528886730174_data = {\"mdsDat\": {\"x\": [0.2733132370152154, -0.30543100985787064, 0.032117772842655275], \"y\": [-0.18925448785091167, -0.13523178391799692, 0.32448627176890865], \"topics\": [1, 2, 3], \"cluster\": [1, 1, 1], \"Freq\": [35.69544982910156, 35.40306091308594, 28.901485443115234]}, \"tinfo\": {\"Term\": [\"people\", \"com\", \"death\", \"case\", \"go\", \"help\", \"test\", \"day\", \"say\", \"get\", \"work\", \"make\", \"time\", \"new\", \"today\", \"pandemic\", \"take\", \"die\", \"patient\", \"amp\", \"year\", \"may\", \"many\", \"know\", \"health\", \"thank\", \"worker\", \"support\", \"due\", \"need\", \"people\", \"help\", \"get\", \"work\", \"time\", \"take\", \"need\", \"home\", \"lockdown\", \"fight\", \"government\", \"give\", \"crisis\", \"good\", \"keep\", \"want\", \"let\", \"would\", \"stay\", \"think\", \"even\", \"tell\", \"month\", \"trump\", \"share\", \"back\", \"way\", \"public\", \"use\", \"bad\", \"see\", \"death\", \"case\", \"test\", \"day\", \"say\", \"new\", \"today\", \"patient\", \"die\", \"health\", \"know\", \"worker\", \"support\", \"week\", \"number\", \"country\", \"state\", \"report\", \"come\", \"hospital\", \"virus\", \"positive\", \"spread\", \"family\", \"care\", \"also\", \"first\", \"high\", \"response\", \"news\", \"http\", \"may\", \"com\", \"go\", \"make\", \"pandemic\", \"amp\", \"year\", \"thank\", \"due\", \"world\", \"live\", \"call\", \"https\", \"show\", \"look\", \"stop\", \"could\", \"child\", \"right\", \"vaccine\", \"life\", \"must\", \"read\", \"post\", \"much\", \"watch\", \"join\", \"business\", \"never\", \"end\", \"big\", \"many\"], \"Freq\": [7512.0, 6170.0, 7370.0, 6031.0, 4665.0, 5338.0, 5146.0, 5147.0, 4901.0, 4800.0, 4626.0, 3799.0, 4497.0, 4435.0, 4108.0, 3366.0, 3765.0, 3705.0, 3672.0, 3061.0, 2753.0, 5725.0, 2755.0, 3259.0, 3252.0, 2713.0, 3218.0, 3213.0, 2674.0, 3147.0, 7512.0498046875, 5337.328125, 4799.80419921875, 4625.60400390625, 4496.892578125, 3764.513916015625, 3146.19970703125, 3076.3056640625, 2984.749267578125, 2810.41162109375, 2826.1328125, 2463.82421875, 2327.304443359375, 2332.804931640625, 2224.725341796875, 2058.803466796875, 2012.0718994140625, 2002.0965576171875, 1954.1322021484375, 1875.89697265625, 1872.1815185546875, 1943.8707275390625, 1832.5660400390625, 1716.585693359375, 1796.6497802734375, 1619.472900390625, 1592.5865478515625, 1519.4110107421875, 1528.7923583984375, 1424.6990966796875, 2494.443603515625, 7369.46728515625, 6030.30712890625, 5145.9755859375, 5146.2724609375, 4900.29248046875, 4435.13818359375, 4107.1962890625, 3671.55517578125, 3704.868896484375, 3251.422607421875, 3258.26123046875, 3217.523681640625, 3212.866455078125, 2842.37353515625, 2633.2744140625, 2751.068115234375, 2639.3828125, 2562.525146484375, 2746.050537109375, 2586.377685546875, 2568.9345703125, 2315.16455078125, 2397.621826171875, 2322.9736328125, 1962.0054931640625, 2023.698486328125, 1947.3935546875, 1880.370849609375, 1992.1488037109375, 1763.5028076171875, 1823.6351318359375, 4812.99462890625, 6169.380859375, 4664.19189453125, 3798.458251953125, 3365.642578125, 3060.207763671875, 2752.524658203125, 2713.0595703125, 2674.00048828125, 2373.55908203125, 2233.81591796875, 2054.923095703125, 1875.4952392578125, 1954.104248046875, 1903.33349609375, 1860.4664306640625, 1675.9027099609375, 1761.73046875, 1727.7041015625, 1551.7830810546875, 1488.0291748046875, 1396.60107421875, 1309.4375, 1269.404296875, 1260.2960205078125, 1169.9901123046875, 1134.487060546875, 1149.89697265625, 1234.345458984375, 1106.403076171875, 1102.348388671875, 2750.84130859375], \"Total\": [7512.0, 6170.0, 7370.0, 6031.0, 4665.0, 5338.0, 5146.0, 5147.0, 4901.0, 4800.0, 4626.0, 3799.0, 4497.0, 4435.0, 4108.0, 3366.0, 3765.0, 3705.0, 3672.0, 3061.0, 2753.0, 5725.0, 2755.0, 3259.0, 3252.0, 2713.0, 3218.0, 3213.0, 2674.0, 3147.0, 7512.9375, 5338.22265625, 4800.6962890625, 4626.4892578125, 4497.78857421875, 3765.39453125, 3147.077392578125, 3077.180908203125, 2985.66943359375, 2811.28173828125, 2827.014892578125, 2464.707763671875, 2328.1962890625, 2333.702880859375, 2225.605224609375, 2059.6669921875, 2012.9429931640625, 2002.9713134765625, 1954.998779296875, 1876.7647705078125, 1873.0740966796875, 1944.8084716796875, 1833.495361328125, 1717.464111328125, 1797.6156005859375, 1620.351806640625, 1593.4705810546875, 1520.2998046875, 1529.7122802734375, 1425.5828857421875, 2500.073486328125, 7370.2978515625, 6031.10009765625, 5146.7939453125, 5147.13916015625, 4901.15380859375, 4435.9794921875, 4108.060546875, 3672.366943359375, 3705.707275390625, 3252.294921875, 3259.150634765625, 3218.419189453125, 3213.7744140625, 2843.245361328125, 2634.0849609375, 2751.927734375, 2640.211181640625, 2563.32958984375, 2746.9462890625, 2587.22998046875, 2569.806396484375, 2315.982421875, 2398.51806640625, 2323.880126953125, 1962.8502197265625, 2024.5865478515625, 1948.2490234375, 1881.20458984375, 1993.0374755859375, 1764.353515625, 1824.60009765625, 5725.26513671875, 6170.29833984375, 4665.08349609375, 3799.35791015625, 3366.531494140625, 3061.08203125, 2753.440673828125, 2713.969970703125, 2674.904541015625, 2374.45556640625, 2234.7158203125, 2055.828369140625, 1876.3497314453125, 1955.034423828125, 1904.24658203125, 1861.40966796875, 1676.8006591796875, 1762.700439453125, 1728.6611328125, 1552.6885986328125, 1488.9085693359375, 1397.495849609375, 1310.3114013671875, 1270.301513671875, 1261.1947021484375, 1170.8521728515625, 1135.3426513671875, 1150.8070068359375, 1235.322509765625, 1107.28955078125, 1103.24609375, 2755.80078125], \"Category\": [\"Default\", \"Default\", \"Default\", \"Default\", \"Default\", \"Default\", \"Default\", \"Default\", \"Default\", \"Default\", \"Default\", \"Default\", \"Default\", \"Default\", \"Default\", \"Default\", \"Default\", \"Default\", \"Default\", \"Default\", \"Default\", \"Default\", \"Default\", \"Default\", \"Default\", \"Default\", \"Default\", \"Default\", \"Default\", \"Default\", \"Topic1\", \"Topic1\", \"Topic1\", \"Topic1\", \"Topic1\", \"Topic1\", \"Topic1\", \"Topic1\", \"Topic1\", \"Topic1\", \"Topic1\", \"Topic1\", \"Topic1\", \"Topic1\", \"Topic1\", \"Topic1\", \"Topic1\", \"Topic1\", \"Topic1\", \"Topic1\", \"Topic1\", \"Topic1\", \"Topic1\", \"Topic1\", \"Topic1\", \"Topic1\", \"Topic1\", \"Topic1\", \"Topic1\", \"Topic1\", \"Topic1\", \"Topic2\", \"Topic2\", \"Topic2\", \"Topic2\", \"Topic2\", \"Topic2\", \"Topic2\", \"Topic2\", \"Topic2\", \"Topic2\", \"Topic2\", \"Topic2\", \"Topic2\", \"Topic2\", \"Topic2\", \"Topic2\", \"Topic2\", \"Topic2\", \"Topic2\", \"Topic2\", \"Topic2\", \"Topic2\", \"Topic2\", \"Topic2\", \"Topic2\", \"Topic2\", \"Topic2\", \"Topic2\", \"Topic2\", \"Topic2\", \"Topic2\", \"Topic2\", \"Topic3\", \"Topic3\", \"Topic3\", \"Topic3\", \"Topic3\", \"Topic3\", \"Topic3\", \"Topic3\", \"Topic3\", \"Topic3\", \"Topic3\", \"Topic3\", \"Topic3\", \"Topic3\", \"Topic3\", \"Topic3\", \"Topic3\", \"Topic3\", \"Topic3\", \"Topic3\", \"Topic3\", \"Topic3\", \"Topic3\", \"Topic3\", \"Topic3\", \"Topic3\", \"Topic3\", \"Topic3\", \"Topic3\", \"Topic3\", \"Topic3\"], \"logprob\": [30.0, 29.0, 28.0, 27.0, 26.0, 25.0, 24.0, 23.0, 22.0, 21.0, 20.0, 19.0, 18.0, 17.0, 16.0, 15.0, 14.0, 13.0, 12.0, 11.0, 10.0, 9.0, 8.0, 7.0, 6.0, 5.0, 4.0, 3.0, 2.0, 1.0, -3.813499927520752, -4.155300140380859, -4.26140022277832, -4.298399925231934, -4.326600074768066, -4.50439977645874, -4.683800220489502, -4.706299781799316, -4.736499786376953, -4.7967000007629395, -4.791100025177002, -4.928299903869629, -4.985300064086914, -4.982999801635742, -5.030399799346924, -5.107900142669678, -5.130899906158447, -5.135799884796143, -5.160099983215332, -5.200900077819824, -5.202899932861328, -5.165299892425537, -5.224299907684326, -5.289700031280518, -5.244100093841553, -5.347899913787842, -5.364699840545654, -5.4116997718811035, -5.4054999351501465, -5.476099967956543, -4.915999889373779, -3.82450008392334, -4.025000095367432, -4.183599948883057, -4.183499813079834, -4.232500076293945, -4.332200050354004, -4.40910005569458, -4.521200180053711, -4.5121002197265625, -4.6427001953125, -4.640600204467773, -4.653200149536133, -4.654600143432617, -4.777200222015381, -4.853600025177002, -4.809800148010254, -4.85129976272583, -4.880799770355225, -4.811600208282471, -4.871500015258789, -4.878300189971924, -4.9822998046875, -4.947299957275391, -4.978899955749512, -5.147799968719482, -5.1168999671936035, -5.155300140380859, -5.190299987792969, -5.132599830627441, -5.254499912261963, -5.2210001945495605, -4.250500202178955, -3.799299955368042, -4.078999996185303, -4.284299850463867, -4.405300140380859, -4.500400066375732, -4.606400012969971, -4.620800018310547, -4.635300159454346, -4.754499912261963, -4.815199851989746, -4.89870023727417, -4.989999771118164, -4.948999881744385, -4.975299835205078, -4.9980998039245605, -5.102499961853027, -5.052599906921387, -5.0721001625061035, -5.179500102996826, -5.221399784088135, -5.284800052642822, -5.349299907684326, -5.380300045013428, -5.387499809265137, -5.461900234222412, -5.492700099945068, -5.4791998863220215, -5.408400058746338, -5.5177998542785645, -5.521399974822998, -4.60699987411499], \"loglift\": [30.0, 29.0, 28.0, 27.0, 26.0, 25.0, 24.0, 23.0, 22.0, 21.0, 20.0, 19.0, 18.0, 17.0, 16.0, 15.0, 14.0, 13.0, 12.0, 11.0, 10.0, 9.0, 8.0, 7.0, 6.0, 5.0, 4.0, 3.0, 2.0, 1.0, 1.0299999713897705, 1.0299999713897705, 1.0299999713897705, 1.0299999713897705, 1.0298999547958374, 1.0298999547958374, 1.0298999547958374, 1.0298999547958374, 1.0298000574111938, 1.0298000574111938, 1.0298000574111938, 1.0298000574111938, 1.0298000574111938, 1.0298000574111938, 1.0298000574111938, 1.0297000408172607, 1.0297000408172607, 1.0297000408172607, 1.0297000408172607, 1.0297000408172607, 1.0297000408172607, 1.0297000408172607, 1.0296000242233276, 1.0296000242233276, 1.0296000242233276, 1.0296000242233276, 1.0296000242233276, 1.0296000242233276, 1.0295000076293945, 1.0295000076293945, 1.027899980545044, 1.0383000373840332, 1.0382000207901, 1.0382000207901, 1.0382000207901, 1.0382000207901, 1.0382000207901, 1.0382000207901, 1.0382000207901, 1.038100004196167, 1.038100004196167, 1.038100004196167, 1.038100004196167, 1.038100004196167, 1.038100004196167, 1.038100004196167, 1.038100004196167, 1.038100004196167, 1.038100004196167, 1.0379999876022339, 1.0379999876022339, 1.0379999876022339, 1.0379999876022339, 1.0379999876022339, 1.0379999876022339, 1.0378999710083008, 1.0378999710083008, 1.0378999710083008, 1.0378999710083008, 1.0378999710083008, 1.0378999710083008, 1.0377999544143677, 0.864799976348877, 1.2410999536514282, 1.2410999536514282, 1.2410000562667847, 1.2410000562667847, 1.2410000562667847, 1.2409000396728516, 1.2409000396728516, 1.2409000396728516, 1.2409000396728516, 1.2409000396728516, 1.2408000230789185, 1.2408000230789185, 1.2408000230789185, 1.2408000230789185, 1.2408000230789185, 1.2407000064849854, 1.2407000064849854, 1.2407000064849854, 1.2407000064849854, 1.2407000064849854, 1.2405999898910522, 1.2405999898910522, 1.2405999898910522, 1.2405999898910522, 1.2404999732971191, 1.2404999732971191, 1.2404999732971191, 1.2404999732971191, 1.2404999732971191, 1.2404999732971191, 1.2395000457763672]}, \"token.table\": {\"Topic\": [2, 3, 1, 1, 3, 3, 3, 2, 2, 3, 3, 2, 3, 2, 1, 2, 2, 2, 3, 3, 1, 2, 1, 2, 1, 1, 3, 1, 1, 2, 1, 2, 1, 2, 2, 3, 3, 3, 1, 2, 1, 3, 3, 1, 3, 3, 1, 3, 2, 3, 1, 3, 3, 1, 3, 2, 2, 2, 3, 2, 1, 2, 3, 1, 3, 2, 2, 3, 2, 1, 2, 1, 3, 2, 2, 1, 3, 2, 1, 1, 2, 3, 1, 1, 2, 1, 1, 3, 2, 1, 3, 1, 2, 1, 2, 3, 1, 3], \"Freq\": [0.9997102618217468, 0.9996465444564819, 0.9991657137870789, 0.9995911121368408, 0.9988704919815063, 0.9992987513542175, 0.9995970726013184, 0.9995668530464172, 0.9998176097869873, 0.9996026158332825, 0.9997895956039429, 0.9996554851531982, 0.9995225071907043, 0.9996628761291504, 0.9994861483573914, 0.999778687953949, 0.9998239278793335, 0.9998091459274292, 0.9996618628501892, 0.9988353848457336, 0.999426543712616, 0.9996212720870972, 0.999544084072113, 0.9993588924407959, 0.9998549818992615, 0.9997128248214722, 0.9997677206993103, 0.99969881772995, 0.9996410012245178, 0.9996018409729004, 0.9997709393501282, 0.999359667301178, 0.999616265296936, 0.9995245933532715, 0.9996711015701294, 0.0005480652907863259, 0.9992806315422058, 0.9988173842430115, 0.9997280836105347, 0.9996469616889954, 0.9995315074920654, 0.9993897676467896, 0.999679684638977, 0.999775767326355, 0.9993453621864319, 0.9996426105499268, 0.0014514836948364973, 0.9982579350471497, 0.8406597375869751, 0.15929393470287323, 0.9997298121452332, 0.9990527033805847, 0.9996451735496521, 0.9996576309204102, 0.9989294409751892, 0.9997791647911072, 0.9997996091842651, 0.999588131904602, 0.99984210729599, 0.9999001026153564, 0.9998751878738403, 0.9995757937431335, 0.9989754557609558, 0.9991450309753418, 0.9989991784095764, 0.9998714327812195, 0.9994794726371765, 0.9996175169944763, 0.9997645616531372, 0.9975706934928894, 0.001999941188842058, 0.9996575713157654, 0.9994708895683289, 0.999783992767334, 0.9995412826538086, 0.9994891285896301, 0.9992426633834839, 0.9997590184211731, 0.9998952150344849, 0.9995843172073364, 0.9998457431793213, 0.9996426105499268, 0.9995924830436707, 0.9998247027397156, 0.9997418522834778, 0.9997297525405884, 0.9995343685150146, 0.9995565414428711, 0.9996861815452576, 0.9996761679649353, 0.9992721676826477, 0.9997046589851379, 0.9995619654655457, 0.9998942613601685, 0.9998697638511658, 0.999808132648468, 0.9995150566101074, 0.9998399615287781], \"Term\": [\"also\", \"amp\", \"back\", \"bad\", \"big\", \"business\", \"call\", \"care\", \"case\", \"child\", \"com\", \"come\", \"could\", \"country\", \"crisis\", \"day\", \"death\", \"die\", \"due\", \"end\", \"even\", \"family\", \"fight\", \"first\", \"get\", \"give\", \"go\", \"good\", \"government\", \"health\", \"help\", \"high\", \"home\", \"hospital\", \"http\", \"http\", \"https\", \"join\", \"keep\", \"know\", \"let\", \"life\", \"live\", \"lockdown\", \"look\", \"make\", \"many\", \"many\", \"may\", \"may\", \"month\", \"much\", \"must\", \"need\", \"never\", \"new\", \"news\", \"number\", \"pandemic\", \"patient\", \"people\", \"positive\", \"post\", \"public\", \"read\", \"report\", \"response\", \"right\", \"say\", \"see\", \"see\", \"share\", \"show\", \"spread\", \"state\", \"stay\", \"stop\", \"support\", \"take\", \"tell\", \"test\", \"thank\", \"think\", \"time\", \"today\", \"trump\", \"use\", \"vaccine\", \"virus\", \"want\", \"watch\", \"way\", \"week\", \"work\", \"worker\", \"world\", \"would\", \"year\"]}, \"R\": 30, \"lambda.step\": 0.01, \"plot.opts\": {\"xlab\": \"PC1\", \"ylab\": \"PC2\"}, \"topic.order\": [3, 2, 1]};\n",
              "\n",
              "function LDAvis_load_lib(url, callback){\n",
              "  var s = document.createElement('script');\n",
              "  s.src = url;\n",
              "  s.async = true;\n",
              "  s.onreadystatechange = s.onload = callback;\n",
              "  s.onerror = function(){console.warn(\"failed to load library \" + url);};\n",
              "  document.getElementsByTagName(\"head\")[0].appendChild(s);\n",
              "}\n",
              "\n",
              "if(typeof(LDAvis) !== \"undefined\"){\n",
              "   // already loaded: just create the visualization\n",
              "   !function(LDAvis){\n",
              "       new LDAvis(\"#\" + \"ldavis_el1241399669297805528886730174\", ldavis_el1241399669297805528886730174_data);\n",
              "   }(LDAvis);\n",
              "}else if(typeof define === \"function\" && define.amd){\n",
              "   // require.js is available: use it to load d3/LDAvis\n",
              "   require.config({paths: {d3: \"https://cdnjs.cloudflare.com/ajax/libs/d3/3.5.5/d3.min\"}});\n",
              "   require([\"d3\"], function(d3){\n",
              "      window.d3 = d3;\n",
              "      LDAvis_load_lib(\"https://cdn.rawgit.com/bmabey/pyLDAvis/files/ldavis.v1.0.0.js\", function(){\n",
              "        new LDAvis(\"#\" + \"ldavis_el1241399669297805528886730174\", ldavis_el1241399669297805528886730174_data);\n",
              "      });\n",
              "    });\n",
              "}else{\n",
              "    // require.js not available: dynamically load d3 & LDAvis\n",
              "    LDAvis_load_lib(\"https://cdnjs.cloudflare.com/ajax/libs/d3/3.5.5/d3.min.js\", function(){\n",
              "         LDAvis_load_lib(\"https://cdn.rawgit.com/bmabey/pyLDAvis/files/ldavis.v1.0.0.js\", function(){\n",
              "                 new LDAvis(\"#\" + \"ldavis_el1241399669297805528886730174\", ldavis_el1241399669297805528886730174_data);\n",
              "            })\n",
              "         });\n",
              "}\n",
              "</script>"
            ],
            "text/plain": [
              "PreparedData(topic_coordinates=              x         y  topics  cluster       Freq\n",
              "topic                                                \n",
              "2      0.273313 -0.189254       1        1  35.695450\n",
              "1     -0.305431 -0.135232       2        1  35.403061\n",
              "0      0.032118  0.324486       3        1  28.901485, topic_info=          Term         Freq        Total Category  logprob  loglift\n",
              "57      people  7512.000000  7512.000000  Default  30.0000  30.0000\n",
              "97         com  6170.000000  6170.000000  Default  29.0000  29.0000\n",
              "86       death  7370.000000  7370.000000  Default  28.0000  28.0000\n",
              "75        case  6031.000000  6031.000000  Default  27.0000  27.0000\n",
              "626         go  4665.000000  4665.000000  Default  26.0000  26.0000\n",
              "...        ...          ...          ...      ...      ...      ...\n",
              "734   business  1149.896973  1150.807007   Topic3  -5.4792   1.2405\n",
              "464      never  1234.345459  1235.322510   Topic3  -5.4084   1.2405\n",
              "1766       end  1106.403076  1107.289551   Topic3  -5.5178   1.2405\n",
              "859        big  1102.348389  1103.246094   Topic3  -5.5214   1.2405\n",
              "299       many  2750.841309  2755.800781   Topic3  -4.6070   1.2395\n",
              "\n",
              "[124 rows x 6 columns], token_table=      Topic      Freq    Term\n",
              "term                         \n",
              "16        2  0.999710    also\n",
              "109       3  0.999647     amp\n",
              "827       1  0.999166    back\n",
              "18        1  0.999591     bad\n",
              "859       3  0.998870     big\n",
              "...     ...       ...     ...\n",
              "213       1  0.999894    work\n",
              "591       2  0.999870  worker\n",
              "128       3  0.999808   world\n",
              "60        1  0.999515   would\n",
              "840       3  0.999840    year\n",
              "\n",
              "[98 rows x 3 columns], R=30, lambda_step=0.01, plot_opts={'xlab': 'PC1', 'ylab': 'PC2'}, topic_order=[3, 2, 1])"
            ]
          },
          "metadata": {
            "tags": []
          },
          "execution_count": 22
        }
      ]
    },
    {
      "cell_type": "code",
      "metadata": {
        "id": "OazWUB3Dr4qc",
        "colab_type": "code",
        "colab": {}
      },
      "source": [
        ""
      ],
      "execution_count": 18,
      "outputs": []
    }
  ]
}